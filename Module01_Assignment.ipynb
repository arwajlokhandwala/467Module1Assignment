{
 "cells": [
  {
   "cell_type": "markdown",
   "metadata": {},
   "source": [
    "Plotting an Image using Python"
   ]
  },
  {
   "cell_type": "code",
   "execution_count": null,
   "metadata": {
    "vscode": {
     "languageId": "plaintext"
    }
   },
   "outputs": [],
   "source": [
    "# Part 2: Plot an Image\n",
    "import cv2\n",
    "import numpy as np\n",
    "from matplotlib import pyplot as plt\n",
    "from mpl_toolkits import mplot3d\n",
    "from skimage import io as io_url\n",
    "\n",
    "# Load the image file (update the path to your image)\n",
    "frame = io_url.imread('https://www.edureka.co/blog/wp-content/uploads/2019/08/Pattern-Recognition-528x245.jpg')\n",
    "frame = np.float32(frame) / 255\n",
    "\n",
    "plt.imshow(frame)"
   ]
  },
  {
   "cell_type": "markdown",
   "metadata": {},
   "source": [
    "Plotting a simple Quadratic Equation"
   ]
  },
  {
   "cell_type": "code",
   "execution_count": null,
   "metadata": {
    "vscode": {
     "languageId": "plaintext"
    }
   },
   "outputs": [],
   "source": [
    "# Part 1: Plot a Simple Quadratic Equation\n",
    "import matplotlib.pyplot as plt\n",
    "import numpy as np\n",
    "\n",
    "# Generate x values\n",
    "x = np.linspace(-10, 10, 100)\n",
    "\n",
    "# Quadratic equation: y = x^2 - 4x + 5\n",
    "y = x**2 - 4*x + 5\n",
    "\n",
    "# Plotting the graph\n",
    "plt.figure(figsize=(8, 6))\n",
    "plt.plot(x, y, label='y = x^2 - 4x + 5', color='blue')\n",
    "plt.title('Quadratic Equation Plot')\n",
    "plt.xlabel('x')\n",
    "plt.ylabel('y')\n",
    "plt.legend()\n",
    "plt.grid()\n",
    "plt.show()"
   ]
  }
 ],
 "metadata": {
  "language_info": {
   "name": "python"
  }
 },
 "nbformat": 4,
 "nbformat_minor": 2
}
